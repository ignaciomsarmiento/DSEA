{
 "cells": [
  {
   "cell_type": "markdown",
   "id": "d3b7c0aa",
   "metadata": {},
   "source": [
    "<div >\n",
    "<img src = \"../banner.png\" />\n",
    "</div>"
   ]
  },
  {
   "cell_type": "markdown",
   "id": "b9ec0f86",
   "metadata": {},
   "source": [
    "<a target=\"_blank\" href=\"https://colab.research.google.com/github/ignaciomsarmiento/DSEA/blob/main/Lecture17/L17_Text_as_Data.ipynb\">\n",
    "  <img src=\"https://colab.research.google.com/assets/colab-badge.svg\" alt=\"Open In Colab\"/>\n",
    "</a>\n"
   ]
  },
  {
   "cell_type": "markdown",
   "id": "dc30206a",
   "metadata": {},
   "source": [
    "# Texto como Datos\n",
    "\n",
    "## Regresión con Texto: Gentzkow and Shapiro"
   ]
  },
  {
   "cell_type": "markdown",
   "id": "444ce2a4-9b12-4a39-9b3d-5b75600b01d8",
   "metadata": {},
   "source": [
    "Vamos a usar los datos del estudio de Gentzkow y Shapiro [2010], que analiza cómo los periódicos ajustan su contenido según la orientación política de sus lectores.\n"
   ]
  },
  {
   "cell_type": "markdown",
   "id": "16e0ba67",
   "metadata": {},
   "source": [
    "<div >\n",
    "<img src = \"figures/gentzgow_shapiro.png\" />\n",
    "</div>"
   ]
  },
  {
   "cell_type": "markdown",
   "id": "411ef521-99ec-4236-8822-c05afb59362e",
   "metadata": {},
   "source": [
    "Cargamos los paquetes"
   ]
  },
  {
   "cell_type": "code",
   "execution_count": null,
   "id": "73f77bab",
   "metadata": {
    "vscode": {
     "languageId": "r"
    }
   },
   "outputs": [],
   "source": [
    "install.packages(\"pacman\")\n",
    "\n",
    "require(\"pacman\")\n",
    "p_load(\"tidyverse\",\"textir\",\"wordcloud\")"
   ]
  },
  {
   "cell_type": "markdown",
   "id": "235e34a6-96df-4a94-a8aa-e5600b4c32dd",
   "metadata": {},
   "source": [
    "El conjunto de datos resume el primer año del 109º Congreso de los Estados Unidos (2005) e incluye todos los discursos de ese año de los miembros de la Cámara de Representantes y del Senado.\n",
    "\n",
    "El texto ya está tokenizado en *bigrams* , después de eliminar las *stopwords* y aplicar un algoritmo de lematización (usando el *Porter stemmer*)."
   ]
  },
  {
   "cell_type": "code",
   "execution_count": null,
   "id": "cc54ff13",
   "metadata": {
    "vscode": {
     "languageId": "r"
    }
   },
   "outputs": [],
   "source": [
    "data(\"congress109\", package = \"textir\")"
   ]
  },
  {
   "cell_type": "markdown",
   "id": "21b6e670-895e-409b-928f-c8b7ebd56cc8",
   "metadata": {},
   "source": [
    "La matriz `congress109Counts` contiene el número de veces que cada una de las 1000 frases más comunes fue utilizada en el 109º Congreso por cada uno de los 529 miembros del Congreso (Cámara y Senado). \n",
    "\n",
    "Es decir, cada documento corresponde a la transcripción combinada de todos los discursos de un solo orador.\n",
    "\n",
    "Podemos inspeccionar los conteos de algunas frases específicas para dos oradores:"
   ]
  },
  {
   "cell_type": "code",
   "execution_count": null,
   "id": "6c88345d",
   "metadata": {
    "vscode": {
     "languageId": "r"
    }
   },
   "outputs": [],
   "source": [
    "congress109Counts[c(\"Barack Obama\",\"John Boehner\"),995:999]"
   ]
  },
  {
   "cell_type": "markdown",
   "id": "bb438ca4-52bb-42cc-a22a-d2106e924314",
   "metadata": {},
   "source": [
    "Tambien tenemos información sobre  el partido que pertenecen el estado, la camara, y la proporcion de votos que obtuvo Bush en la eleccion presindecial en el distrito/estado de cada representante"
   ]
  },
  {
   "cell_type": "code",
   "execution_count": null,
   "id": "a06cc21d",
   "metadata": {
    "vscode": {
     "languageId": "r"
    }
   },
   "outputs": [],
   "source": [
    "congress109Ideology[c(\"Barack Obama\",\"John Boehner\"),1:5]"
   ]
  },
  {
   "cell_type": "markdown",
   "id": "17aa1df2-e6c6-4315-8e24-fa2aaea15206",
   "metadata": {},
   "source": [
    "Vamos a tratar de predecir estos votos  a partir de como los congresistas hablan. La idea es que el lenguage apela a los votantes: "
   ]
  },
  {
   "cell_type": "code",
   "execution_count": null,
   "id": "b3bb5e19-67ab-4db0-8a37-3f4ee5544c96",
   "metadata": {
    "vscode": {
     "languageId": "r"
    }
   },
   "outputs": [],
   "source": [
    "as.matrix(congress109Counts[c(\"Tom Price\",\"William Jefferson\"),c(\"death.tax\",\"estate.tax\")])"
   ]
  },
  {
   "cell_type": "code",
   "execution_count": null,
   "id": "b93bc96d-31bf-4908-a0ea-781a6fa78bf7",
   "metadata": {
    "vscode": {
     "languageId": "r"
    }
   },
   "outputs": [],
   "source": [
    "repshare <- congress109Ideology$repshare\n",
    "X1 <- as.matrix(congress109Counts)\n",
    "words<-colnames(X1)\n",
    "\n",
    "covariance<-apply(X1,2,function(x) cor(x,repshare))\n",
    "\n",
    "                  \n",
    "\n",
    "wordcloud(words = words,\n",
    "          freq = covariance,\n",
    "          min.freq = 0,\n",
    "          scale = c(1.5, 0.1), \n",
    "          max.words=200, \n",
    "          random.order=FALSE, \n",
    "          colors=brewer.pal(8, \"YlOrRd\"))"
   ]
  },
  {
   "cell_type": "markdown",
   "id": "2f381c1e",
   "metadata": {},
   "source": [
    "### Regresión \n",
    "\n",
    "$$\n",
    "RepShare= X\\beta  + u\n",
    "$$"
   ]
  },
  {
   "cell_type": "code",
   "execution_count": null,
   "id": "8e8d0aa2",
   "metadata": {
    "vscode": {
     "languageId": "r"
    }
   },
   "outputs": [],
   "source": [
    "# Predictores\n",
    "X <- as(congress109Counts, \"dMatrix\")\n",
    "\n",
    "# Outcome\n",
    "repshare <- congress109Ideology$repshare"
   ]
  },
  {
   "cell_type": "code",
   "execution_count": null,
   "id": "836fea72",
   "metadata": {
    "vscode": {
     "languageId": "r"
    }
   },
   "outputs": [],
   "source": [
    "# lasso\n",
    "lassoslant <- cv.gamlr(X>0, repshare)  \n",
    "\n",
    "B <- coef(lassoslant$gamlr)[-1,] "
   ]
  },
  {
   "cell_type": "code",
   "execution_count": null,
   "id": "5d8c57e0",
   "metadata": {
    "vscode": {
     "languageId": "r"
    }
   },
   "outputs": [],
   "source": [
    "tail(sort(round(B[B!=0],4)),10)"
   ]
  },
  {
   "cell_type": "code",
   "execution_count": null,
   "id": "65a01ef8",
   "metadata": {
    "vscode": {
     "languageId": "r"
    }
   },
   "outputs": [],
   "source": [
    "head(sort(round(B[B!=0],4)),10)"
   ]
  }
 ],
 "metadata": {
  "kernelspec": {
   "display_name": "R",
   "language": "R",
   "name": "ir"
  },
  "language_info": {
   "codemirror_mode": "r",
   "file_extension": ".r",
   "mimetype": "text/x-r-source",
   "name": "R",
   "pygments_lexer": "r",
   "version": "4.4.3"
  },
  "toc": {
   "base_numbering": 1,
   "nav_menu": {},
   "number_sections": true,
   "sideBar": true,
   "skip_h1_title": false,
   "title_cell": "Table of Contents",
   "title_sidebar": "Contents",
   "toc_cell": false,
   "toc_position": {},
   "toc_section_display": true,
   "toc_window_display": false
  }
 },
 "nbformat": 4,
 "nbformat_minor": 5
}
