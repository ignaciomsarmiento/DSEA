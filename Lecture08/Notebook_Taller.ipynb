{
 "cells": [
  {
   "cell_type": "markdown",
   "id": "a7b0a685-384c-4c7e-9905-1243108b4592",
   "metadata": {},
   "source": [
    "<a target=\"_blank\" href=\"https://colab.research.google.com/github/ignaciomsarmiento/DSEA/blob/main/Lecture08/Notebook_Taller.ipynb\">\n",
    "  <img src=\"https://colab.research.google.com/assets/colab-badge.svg\" alt=\"Open In Colab\"/>\n",
    "</a>\n"
   ]
  },
  {
   "cell_type": "markdown",
   "id": "f7e57de4",
   "metadata": {},
   "source": [
    "# Parte A: Análisis exploratorio y predictivo con datos observacionales."
   ]
  },
  {
   "cell_type": "code",
   "execution_count": 2,
   "id": "516fd2ff",
   "metadata": {
    "vscode": {
     "languageId": "r"
    }
   },
   "outputs": [],
   "source": [
    "#packages\n",
    "require(\"pacman\")\n",
    "p_load(\"tidyverse\")\n",
    "\n",
    "parteA <- readRDS(url(\"https://github.com/ignaciomsarmiento/DSEA/raw/refs/heads/main/Lecture08/Datos/Parte_A.Rds\", method=\"libcurl\"))\n"
   ]
  },
  {
   "cell_type": "code",
   "execution_count": 6,
   "id": "390b2617-7f7f-4d39-b431-8d07e8f73044",
   "metadata": {
    "vscode": {
     "languageId": "r"
    }
   },
   "outputs": [
    {
     "name": "stdout",
     "output_type": "stream",
     "text": [
      "Rows: 100,000\n",
      "Columns: 7\n",
      "$ time_spent        \u001b[3m\u001b[90m<dbl>\u001b[39m\u001b[23m 2.32620155, 5.19317047, 2.80284524, 0.04252159, 0.44~\n",
      "$ past_sessions     \u001b[3m\u001b[90m<int>\u001b[39m\u001b[23m 4, 3, 2, 3, 2, 3, 2, 5, 3, 3, 0, 5, 2, 1, 3, 5, 3, 4~\n",
      "$ device_type       \u001b[3m\u001b[90m<fct>\u001b[39m\u001b[23m desktop, desktop, mobile, mobile, desktop, mobile, t~\n",
      "$ os_type           \u001b[3m\u001b[90m<fct>\u001b[39m\u001b[23m other, osx, other, windows, windows, windows, osx, w~\n",
      "$ is_returning_user \u001b[3m\u001b[90m<dbl>\u001b[39m\u001b[23m 1, 1, 1, 1, 1, 1, 1, 1, 1, 1, 0, 1, 1, 1, 1, 1, 1, 1~\n",
      "$ sign_up           \u001b[3m\u001b[90m<int>\u001b[39m\u001b[23m 1, 1, 1, 1, 1, 1, 1, 1, 1, 1, 1, 1, 1, 1, 1, 0, 1, 1~\n",
      "$ Revenue           \u001b[3m\u001b[90m<dbl>\u001b[39m\u001b[23m 2.286118, 7.267442, 2.949925, 2.698855, 2.637791, 1.~\n"
     ]
    }
   ],
   "source": [
    "glimpse(parteA)\n"
   ]
  },
  {
   "cell_type": "markdown",
   "id": "9eade98f-22c7-4e5a-969b-1203748f0426",
   "metadata": {
    "vscode": {
     "languageId": "r"
    }
   },
   "source": [
    "# Parte B: Análisis causal usando datos de un experimento aleatorizado."
   ]
  },
  {
   "cell_type": "code",
   "execution_count": 5,
   "id": "16ef7537",
   "metadata": {
    "vscode": {
     "languageId": "r"
    }
   },
   "outputs": [
    {
     "name": "stdout",
     "output_type": "stream",
     "text": [
      "Rows: 10,000\n",
      "Columns: 8\n",
      "$ time_spent        \u001b[3m\u001b[90m<dbl>\u001b[39m\u001b[23m 2.32620155, 5.19317047, 2.80284524, 0.04252159, 0.44~\n",
      "$ past_sessions     \u001b[3m\u001b[90m<int>\u001b[39m\u001b[23m 3, 4, 5, 7, 7, 3, 1, 0, 2, 4, 3, 4, 3, 5, 1, 2, 3, 6~\n",
      "$ device_type       \u001b[3m\u001b[90m<fct>\u001b[39m\u001b[23m desktop, mobile, desktop, mobile, tablet, desktop, d~\n",
      "$ os_type           \u001b[3m\u001b[90m<fct>\u001b[39m\u001b[23m other, windows, windows, windows, windows, windows, ~\n",
      "$ is_returning_user \u001b[3m\u001b[90m<dbl>\u001b[39m\u001b[23m 1, 1, 1, 1, 1, 1, 1, 0, 1, 1, 1, 1, 1, 1, 1, 1, 1, 1~\n",
      "$ sign_up           \u001b[3m\u001b[90m<int>\u001b[39m\u001b[23m 1, 1, 0, 1, 1, 1, 1, 0, 1, 1, 0, 1, 1, 1, 0, 1, 0, 0~\n",
      "$ Revenue           \u001b[3m\u001b[90m<dbl>\u001b[39m\u001b[23m 2.7410373, 11.6797652, 4.9553453, 2.5301403, 3.78623~\n",
      "$ easier_signup     \u001b[3m\u001b[90m<int>\u001b[39m\u001b[23m 1, 1, 0, 1, 1, 1, 1, 0, 1, 1, 0, 1, 1, 1, 0, 1, 0, 0~\n"
     ]
    }
   ],
   "source": [
    "parteB <- readRDS(url(\"https://github.com/ignaciomsarmiento/DSEA/raw/refs/heads/main/Lecture08/Datos/Parte_B.Rds\", method=\"libcurl\"))\n",
    "\n",
    "glimpse(parteB)\n"
   ]
  }
 ],
 "metadata": {
  "jupytext": {
   "formats": "ipynb,Rmd"
  },
  "kernelspec": {
   "display_name": "R",
   "language": "R",
   "name": "ir"
  },
  "language_info": {
   "codemirror_mode": "r",
   "file_extension": ".r",
   "mimetype": "text/x-r-source",
   "name": "R",
   "pygments_lexer": "r",
   "version": "4.4.3"
  },
  "toc": {
   "base_numbering": 1,
   "nav_menu": {},
   "number_sections": true,
   "sideBar": true,
   "skip_h1_title": false,
   "title_cell": "Table of Contents",
   "title_sidebar": "Contents",
   "toc_cell": false,
   "toc_position": {},
   "toc_section_display": true,
   "toc_window_display": false
  }
 },
 "nbformat": 4,
 "nbformat_minor": 5
}
