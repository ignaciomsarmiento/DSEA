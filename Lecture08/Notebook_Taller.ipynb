{
 "cells": [
  {
   "cell_type": "markdown",
   "id": "a7b0a685-384c-4c7e-9905-1243108b4592",
   "metadata": {},
   "source": [
    "<a target=\"_blank\" href=\"https://colab.research.google.com/github/ignaciomsarmiento/BDML_202402/blob/main/Lecture05/Notebook_ModelSelection.ipynb\">\n",
    "  <img src=\"https://colab.research.google.com/assets/colab-badge.svg\" alt=\"Open In Colab\"/>\n",
    "</a>\n"
   ]
  },
  {
   "cell_type": "markdown",
   "id": "f7e57de4",
   "metadata": {},
   "source": [
    "# Parte A: Análisis exploratorio y predictivo con datos observacionales."
   ]
  },
  {
   "cell_type": "code",
   "execution_count": 1,
   "id": "516fd2ff",
   "metadata": {
    "vscode": {
     "languageId": "r"
    }
   },
   "outputs": [
    {
     "name": "stderr",
     "output_type": "stream",
     "text": [
      "Loading required package: pacman\n",
      "\n",
      "\u001b[1mRows: \u001b[22m\u001b[34m1266\u001b[39m \u001b[1mColumns: \u001b[22m\u001b[34m994\u001b[39m\n",
      "\u001b[36m──\u001b[39m \u001b[1mColumn specification\u001b[22m \u001b[36m──────────────────────────────────────────────────────────────────────────────────────────────────────────────────────────────────────────────────────────\u001b[39m\n",
      "\u001b[1mDelimiter:\u001b[22m \",\"\n",
      "\u001b[32mdbl\u001b[39m (994): lnw_2016, educ, black, hispanic, other, exp, afqt, mom_educ, dad_...\n",
      "\n",
      "\u001b[36mℹ\u001b[39m Use `spec()` to retrieve the full column specification for this data.\n",
      "\u001b[36mℹ\u001b[39m Specify the column types or set `show_col_types = FALSE` to quiet this message.\n"
     ]
    }
   ],
   "source": [
    "#packages\n",
    "require(\"pacman\")\n",
    "p_load(\"tidyverse\")\n",
    "\n",
    "nlsy <- read_csv('https://raw.githubusercontent.com/ignaciomsarmiento/datasets/main/nlsy97.csv')\n",
    "\n",
    "nlsy <- nlsy  %>%   drop_na(educ) #dropea los valores faltantes (NA)"
   ]
  },
  {
   "cell_type": "code",
   "execution_count": 2,
   "id": "390b2617-7f7f-4d39-b431-8d07e8f73044",
   "metadata": {
    "vscode": {
     "languageId": "r"
    }
   },
   "outputs": [
    {
     "data": {
      "text/html": [
       "<style>\n",
       ".list-inline {list-style: none; margin:0; padding: 0}\n",
       ".list-inline>li {display: inline-block}\n",
       ".list-inline>li:not(:last-child)::after {content: \"\\00b7\"; padding: 0 .5ex}\n",
       "</style>\n",
       "<ol class=list-inline><li>'lnw_2016'</li><li>'educ'</li><li>'black'</li><li>'hispanic'</li><li>'other'</li><li>'exp'</li><li>'afqt'</li><li>'mom_educ'</li><li>'dad_educ'</li><li>'yhea_100_1997'</li><li>'yhea_2000_1997'</li><li>'yhea_2100_1997'</li><li>'yhea_2200_1997'</li><li>'ysaq_284_1997'</li><li>'ysaq_285_1997'</li><li>'ysaq_291a_1997'</li><li>'ysaq_292_1997'</li><li>'ysaq_293_1997'</li><li>'ysaq_294_1997'</li><li>'ysaq_294a_1997'</li><li>'ysaq_295_1997'</li></ol>\n"
      ],
      "text/latex": [
       "\\begin{enumerate*}\n",
       "\\item 'lnw\\_2016'\n",
       "\\item 'educ'\n",
       "\\item 'black'\n",
       "\\item 'hispanic'\n",
       "\\item 'other'\n",
       "\\item 'exp'\n",
       "\\item 'afqt'\n",
       "\\item 'mom\\_educ'\n",
       "\\item 'dad\\_educ'\n",
       "\\item 'yhea\\_100\\_1997'\n",
       "\\item 'yhea\\_2000\\_1997'\n",
       "\\item 'yhea\\_2100\\_1997'\n",
       "\\item 'yhea\\_2200\\_1997'\n",
       "\\item 'ysaq\\_284\\_1997'\n",
       "\\item 'ysaq\\_285\\_1997'\n",
       "\\item 'ysaq\\_291a\\_1997'\n",
       "\\item 'ysaq\\_292\\_1997'\n",
       "\\item 'ysaq\\_293\\_1997'\n",
       "\\item 'ysaq\\_294\\_1997'\n",
       "\\item 'ysaq\\_294a\\_1997'\n",
       "\\item 'ysaq\\_295\\_1997'\n",
       "\\end{enumerate*}\n"
      ],
      "text/markdown": [
       "1. 'lnw_2016'\n",
       "2. 'educ'\n",
       "3. 'black'\n",
       "4. 'hispanic'\n",
       "5. 'other'\n",
       "6. 'exp'\n",
       "7. 'afqt'\n",
       "8. 'mom_educ'\n",
       "9. 'dad_educ'\n",
       "10. 'yhea_100_1997'\n",
       "11. 'yhea_2000_1997'\n",
       "12. 'yhea_2100_1997'\n",
       "13. 'yhea_2200_1997'\n",
       "14. 'ysaq_284_1997'\n",
       "15. 'ysaq_285_1997'\n",
       "16. 'ysaq_291a_1997'\n",
       "17. 'ysaq_292_1997'\n",
       "18. 'ysaq_293_1997'\n",
       "19. 'ysaq_294_1997'\n",
       "20. 'ysaq_294a_1997'\n",
       "21. 'ysaq_295_1997'\n",
       "\n",
       "\n"
      ],
      "text/plain": [
       " [1] \"lnw_2016\"       \"educ\"           \"black\"          \"hispanic\"      \n",
       " [5] \"other\"          \"exp\"            \"afqt\"           \"mom_educ\"      \n",
       " [9] \"dad_educ\"       \"yhea_100_1997\"  \"yhea_2000_1997\" \"yhea_2100_1997\"\n",
       "[13] \"yhea_2200_1997\" \"ysaq_284_1997\"  \"ysaq_285_1997\"  \"ysaq_291a_1997\"\n",
       "[17] \"ysaq_292_1997\"  \"ysaq_293_1997\"  \"ysaq_294_1997\"  \"ysaq_294a_1997\"\n",
       "[21] \"ysaq_295_1997\" "
      ]
     },
     "metadata": {},
     "output_type": "display_data"
    }
   ],
   "source": [
    "colnames(nlsy[1:21])"
   ]
  },
  {
   "cell_type": "code",
   "execution_count": 3,
   "id": "7208cb9a",
   "metadata": {
    "vscode": {
     "languageId": "r"
    }
   },
   "outputs": [
    {
     "data": {
      "text/plain": [
       "\n",
       "  1   2   3   4   5 \n",
       "550 462 219  33   2 "
      ]
     },
     "metadata": {},
     "output_type": "display_data"
    }
   ],
   "source": [
    "table(nlsy$yhea_100_1997)"
   ]
  },
  {
   "cell_type": "markdown",
   "id": "2038f3fa",
   "metadata": {},
   "source": [
    "Let's keep a subset of these predictors"
   ]
  },
  {
   "cell_type": "code",
   "execution_count": 4,
   "id": "1086b302",
   "metadata": {
    "vscode": {
     "languageId": "r"
    }
   },
   "outputs": [],
   "source": [
    "nlsy<- nlsy[1:15]"
   ]
  },
  {
   "cell_type": "code",
   "execution_count": 6,
   "id": "e180d468-4786-4677-92a6-1d92fef6a34a",
   "metadata": {
    "vscode": {
     "languageId": "r"
    }
   },
   "outputs": [
    {
     "data": {
      "text/html": [
       "<table class=\"dataframe\">\n",
       "<caption>A tibble: 6 × 15</caption>\n",
       "<thead>\n",
       "\t<tr><th scope=col>lnw_2016</th><th scope=col>educ</th><th scope=col>black</th><th scope=col>hispanic</th><th scope=col>other</th><th scope=col>exp</th><th scope=col>afqt</th><th scope=col>mom_educ</th><th scope=col>dad_educ</th><th scope=col>yhea_100_1997</th><th scope=col>yhea_2000_1997</th><th scope=col>yhea_2100_1997</th><th scope=col>yhea_2200_1997</th><th scope=col>ysaq_284_1997</th><th scope=col>ysaq_285_1997</th></tr>\n",
       "\t<tr><th scope=col>&lt;dbl&gt;</th><th scope=col>&lt;dbl&gt;</th><th scope=col>&lt;dbl&gt;</th><th scope=col>&lt;dbl&gt;</th><th scope=col>&lt;dbl&gt;</th><th scope=col>&lt;dbl&gt;</th><th scope=col>&lt;dbl&gt;</th><th scope=col>&lt;dbl&gt;</th><th scope=col>&lt;dbl&gt;</th><th scope=col>&lt;dbl&gt;</th><th scope=col>&lt;dbl&gt;</th><th scope=col>&lt;dbl&gt;</th><th scope=col>&lt;dbl&gt;</th><th scope=col>&lt;dbl&gt;</th><th scope=col>&lt;dbl&gt;</th></tr>\n",
       "</thead>\n",
       "<tbody>\n",
       "\t<tr><td>4.076898</td><td>16</td><td>0</td><td>0</td><td>0</td><td>11</td><td>7.0724</td><td>12</td><td>12</td><td>3</td><td>5</td><td> 0</td><td> 98</td><td>3</td><td>12</td></tr>\n",
       "\t<tr><td>3.294138</td><td> 9</td><td>0</td><td>0</td><td>0</td><td>19</td><td>4.7481</td><td> 9</td><td>10</td><td>2</td><td>5</td><td>10</td><td>140</td><td>4</td><td> 9</td></tr>\n",
       "\t<tr><td>2.830896</td><td> 9</td><td>0</td><td>1</td><td>0</td><td>22</td><td>1.1987</td><td>12</td><td> 9</td><td>3</td><td>5</td><td> 7</td><td>185</td><td>4</td><td>13</td></tr>\n",
       "\t<tr><td>4.306459</td><td>16</td><td>0</td><td>0</td><td>0</td><td>13</td><td>8.9321</td><td>16</td><td>18</td><td>2</td><td>5</td><td>10</td><td>140</td><td>3</td><td>11</td></tr>\n",
       "\t<tr><td>5.991465</td><td>16</td><td>0</td><td>1</td><td>0</td><td>15</td><td>2.2618</td><td>16</td><td>16</td><td>1</td><td>5</td><td>10</td><td>145</td><td>4</td><td>14</td></tr>\n",
       "\t<tr><td>4.711924</td><td>16</td><td>0</td><td>0</td><td>0</td><td>14</td><td>8.9502</td><td>18</td><td>20</td><td>1</td><td>5</td><td> 7</td><td>137</td><td>4</td><td>13</td></tr>\n",
       "</tbody>\n",
       "</table>\n"
      ],
      "text/latex": [
       "A tibble: 6 × 15\n",
       "\\begin{tabular}{lllllllllllllll}\n",
       " lnw\\_2016 & educ & black & hispanic & other & exp & afqt & mom\\_educ & dad\\_educ & yhea\\_100\\_1997 & yhea\\_2000\\_1997 & yhea\\_2100\\_1997 & yhea\\_2200\\_1997 & ysaq\\_284\\_1997 & ysaq\\_285\\_1997\\\\\n",
       " <dbl> & <dbl> & <dbl> & <dbl> & <dbl> & <dbl> & <dbl> & <dbl> & <dbl> & <dbl> & <dbl> & <dbl> & <dbl> & <dbl> & <dbl>\\\\\n",
       "\\hline\n",
       "\t 4.076898 & 16 & 0 & 0 & 0 & 11 & 7.0724 & 12 & 12 & 3 & 5 &  0 &  98 & 3 & 12\\\\\n",
       "\t 3.294138 &  9 & 0 & 0 & 0 & 19 & 4.7481 &  9 & 10 & 2 & 5 & 10 & 140 & 4 &  9\\\\\n",
       "\t 2.830896 &  9 & 0 & 1 & 0 & 22 & 1.1987 & 12 &  9 & 3 & 5 &  7 & 185 & 4 & 13\\\\\n",
       "\t 4.306459 & 16 & 0 & 0 & 0 & 13 & 8.9321 & 16 & 18 & 2 & 5 & 10 & 140 & 3 & 11\\\\\n",
       "\t 5.991465 & 16 & 0 & 1 & 0 & 15 & 2.2618 & 16 & 16 & 1 & 5 & 10 & 145 & 4 & 14\\\\\n",
       "\t 4.711924 & 16 & 0 & 0 & 0 & 14 & 8.9502 & 18 & 20 & 1 & 5 &  7 & 137 & 4 & 13\\\\\n",
       "\\end{tabular}\n"
      ],
      "text/markdown": [
       "\n",
       "A tibble: 6 × 15\n",
       "\n",
       "| lnw_2016 &lt;dbl&gt; | educ &lt;dbl&gt; | black &lt;dbl&gt; | hispanic &lt;dbl&gt; | other &lt;dbl&gt; | exp &lt;dbl&gt; | afqt &lt;dbl&gt; | mom_educ &lt;dbl&gt; | dad_educ &lt;dbl&gt; | yhea_100_1997 &lt;dbl&gt; | yhea_2000_1997 &lt;dbl&gt; | yhea_2100_1997 &lt;dbl&gt; | yhea_2200_1997 &lt;dbl&gt; | ysaq_284_1997 &lt;dbl&gt; | ysaq_285_1997 &lt;dbl&gt; |\n",
       "|---|---|---|---|---|---|---|---|---|---|---|---|---|---|---|\n",
       "| 4.076898 | 16 | 0 | 0 | 0 | 11 | 7.0724 | 12 | 12 | 3 | 5 |  0 |  98 | 3 | 12 |\n",
       "| 3.294138 |  9 | 0 | 0 | 0 | 19 | 4.7481 |  9 | 10 | 2 | 5 | 10 | 140 | 4 |  9 |\n",
       "| 2.830896 |  9 | 0 | 1 | 0 | 22 | 1.1987 | 12 |  9 | 3 | 5 |  7 | 185 | 4 | 13 |\n",
       "| 4.306459 | 16 | 0 | 0 | 0 | 13 | 8.9321 | 16 | 18 | 2 | 5 | 10 | 140 | 3 | 11 |\n",
       "| 5.991465 | 16 | 0 | 1 | 0 | 15 | 2.2618 | 16 | 16 | 1 | 5 | 10 | 145 | 4 | 14 |\n",
       "| 4.711924 | 16 | 0 | 0 | 0 | 14 | 8.9502 | 18 | 20 | 1 | 5 |  7 | 137 | 4 | 13 |\n",
       "\n"
      ],
      "text/plain": [
       "  lnw_2016 educ black hispanic other exp afqt   mom_educ dad_educ yhea_100_1997\n",
       "1 4.076898 16   0     0        0     11  7.0724 12       12       3            \n",
       "2 3.294138  9   0     0        0     19  4.7481  9       10       2            \n",
       "3 2.830896  9   0     1        0     22  1.1987 12        9       3            \n",
       "4 4.306459 16   0     0        0     13  8.9321 16       18       2            \n",
       "5 5.991465 16   0     1        0     15  2.2618 16       16       1            \n",
       "6 4.711924 16   0     0        0     14  8.9502 18       20       1            \n",
       "  yhea_2000_1997 yhea_2100_1997 yhea_2200_1997 ysaq_284_1997 ysaq_285_1997\n",
       "1 5               0              98            3             12           \n",
       "2 5              10             140            4              9           \n",
       "3 5               7             185            4             13           \n",
       "4 5              10             140            3             11           \n",
       "5 5              10             145            4             14           \n",
       "6 5               7             137            4             13           "
      ]
     },
     "metadata": {},
     "output_type": "display_data"
    }
   ],
   "source": [
    "head(nlsy)"
   ]
  },
  {
   "cell_type": "code",
   "execution_count": 5,
   "id": "9888edb7-99df-41b9-bb50-624917d795f5",
   "metadata": {
    "vscode": {
     "languageId": "r"
    }
   },
   "outputs": [
    {
     "data": {
      "text/html": [
       "<style>\n",
       ".list-inline {list-style: none; margin:0; padding: 0}\n",
       ".list-inline>li {display: inline-block}\n",
       ".list-inline>li:not(:last-child)::after {content: \"\\00b7\"; padding: 0 .5ex}\n",
       "</style>\n",
       "<ol class=list-inline><li>1266</li><li>15</li></ol>\n"
      ],
      "text/latex": [
       "\\begin{enumerate*}\n",
       "\\item 1266\n",
       "\\item 15\n",
       "\\end{enumerate*}\n"
      ],
      "text/markdown": [
       "1. 1266\n",
       "2. 15\n",
       "\n",
       "\n"
      ],
      "text/plain": [
       "[1] 1266   15"
      ]
     },
     "metadata": {},
     "output_type": "display_data"
    }
   ],
   "source": [
    "dim(nlsy)"
   ]
  },
  {
   "cell_type": "code",
   "execution_count": null,
   "id": "9eade98f-22c7-4e5a-969b-1203748f0426",
   "metadata": {
    "vscode": {
     "languageId": "r"
    }
   },
   "outputs": [],
   "source": [
    "# Parte B: Análisis causal usando datos de un experimento aleatorizado."
   ]
  }
 ],
 "metadata": {
  "jupytext": {
   "formats": "ipynb,Rmd"
  },
  "kernelspec": {
   "display_name": "R",
   "language": "R",
   "name": "ir"
  },
  "language_info": {
   "codemirror_mode": "r",
   "file_extension": ".r",
   "mimetype": "text/x-r-source",
   "name": "R",
   "pygments_lexer": "r",
   "version": "4.4.0"
  },
  "toc": {
   "base_numbering": 1,
   "nav_menu": {},
   "number_sections": true,
   "sideBar": true,
   "skip_h1_title": false,
   "title_cell": "Table of Contents",
   "title_sidebar": "Contents",
   "toc_cell": false,
   "toc_position": {},
   "toc_section_display": true,
   "toc_window_display": false
  }
 },
 "nbformat": 4,
 "nbformat_minor": 5
}
